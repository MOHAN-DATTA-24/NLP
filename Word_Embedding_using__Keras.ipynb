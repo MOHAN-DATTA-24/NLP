{
  "nbformat": 4,
  "nbformat_minor": 0,
  "metadata": {
    "colab": {
      "provenance": [],
      "authorship_tag": "ABX9TyOBpsz/x+PMufV+mty+7GMv",
      "include_colab_link": true
    },
    "kernelspec": {
      "name": "python3",
      "display_name": "Python 3"
    },
    "language_info": {
      "name": "python"
    }
  },
  "cells": [
    {
      "cell_type": "markdown",
      "metadata": {
        "id": "view-in-github",
        "colab_type": "text"
      },
      "source": [
        "<a href=\"https://colab.research.google.com/github/MOHAN-DATTA-24/NLP/blob/main/Word_Embedding_using__Keras.ipynb\" target=\"_parent\"><img src=\"https://colab.research.google.com/assets/colab-badge.svg\" alt=\"Open In Colab\"/></a>"
      ]
    },
    {
      "cell_type": "code",
      "execution_count": 1,
      "metadata": {
        "id": "iakhiqu5hcAn"
      },
      "outputs": [],
      "source": [
        "## Speech Of DR APJ Abdul Kalam\n",
        "paragraph = \"\"\"I have three visions for India. In 3000 years of our history, people from all over\n",
        "               the world have come and invaded us, captured our lands, conquered our minds.\n",
        "               From Alexander onwards, the Greeks, the Turks, the Moguls, the Portuguese, the British,\n",
        "               the French, the Dutch, all of them came and looted us, took over what was ours.\n",
        "               Yet we have not done this to any other nation. We have not conquered anyone.\n",
        "               We have not grabbed their land, their culture,\n",
        "               their history and tried to enforce our way of life on them.\n",
        "               Why? Because we respect the freedom of others.That is why my\n",
        "               first vision is that of freedom. I believe that India got its first vision of\n",
        "               this in 1857, when we started the War of Independence. It is this freedom that\n",
        "               we must protect and nurture and build on. If we are not free, no one will respect us.\n",
        "               My second vision for India’s development. For fifty years we have been a developing nation.\n",
        "               It is time we see ourselves as a developed nation. We are among the top 5 nations of the world\n",
        "               in terms of GDP. We have a 10 percent growth rate in most areas. Our poverty levels are falling.\n",
        "               Our achievements are being globally recognised today. Yet we lack the self-confidence to\n",
        "               see ourselves as a developed nation, self-reliant and self-assured. Isn’t this incorrect?\n",
        "               I have a third vision. India must stand up to the world. Because I believe that unless India\n",
        "               stands up to the world, no one will respect us. Only strength respects strength. We must be\n",
        "               strong not only as a military power but also as an economic power. Both must go hand-in-hand.\n",
        "               My good fortune was to have worked with three great minds. Dr. Vikram Sarabhai of the Dept. of\n",
        "               space, Professor Satish Dhawan, who succeeded him and Dr. Brahm Prakash, father of nuclear material.\n",
        "               I was lucky to have worked with all three of them closely and consider this the great opportunity of my life.\n",
        "               I see four milestones in my career\"\"\""
      ]
    },
    {
      "cell_type": "code",
      "source": [
        "import nltk"
      ],
      "metadata": {
        "id": "iWhcwWLWh0KF"
      },
      "execution_count": 2,
      "outputs": []
    },
    {
      "cell_type": "code",
      "source": [
        "import re\n",
        "from nltk.corpus import stopwords\n",
        "from nltk.stem import WordNetLemmatizer"
      ],
      "metadata": {
        "id": "bfafljo3h0Gn"
      },
      "execution_count": 7,
      "outputs": []
    },
    {
      "cell_type": "code",
      "source": [
        "nltk.download('punkt')\n",
        "sentences = nltk.sent_tokenize(paragraph)"
      ],
      "metadata": {
        "colab": {
          "base_uri": "https://localhost:8080/"
        },
        "id": "auZlJZ2Jipq_",
        "outputId": "4ef777fc-b869-47aa-f815-6d5eafbe99e9"
      },
      "execution_count": 9,
      "outputs": [
        {
          "output_type": "stream",
          "name": "stderr",
          "text": [
            "[nltk_data] Downloading package punkt to /root/nltk_data...\n",
            "[nltk_data]   Unzipping tokenizers/punkt.zip.\n"
          ]
        }
      ]
    },
    {
      "cell_type": "code",
      "source": [
        "lemma = WordNetLemmatizer()"
      ],
      "metadata": {
        "id": "1P7Ujsbwh0C5"
      },
      "execution_count": 6,
      "outputs": []
    },
    {
      "cell_type": "code",
      "source": [
        "nltk.download('stopwords')\n",
        "nltk.download('wordnet')"
      ],
      "metadata": {
        "colab": {
          "base_uri": "https://localhost:8080/"
        },
        "id": "0-YAMwAVh0An",
        "outputId": "3bf89dec-2abe-4465-904f-2d4723f9dc12"
      },
      "execution_count": 5,
      "outputs": [
        {
          "output_type": "stream",
          "name": "stderr",
          "text": [
            "[nltk_data] Downloading package stopwords to /root/nltk_data...\n",
            "[nltk_data]   Unzipping corpora/stopwords.zip.\n",
            "[nltk_data] Downloading package wordnet to /root/nltk_data...\n"
          ]
        },
        {
          "output_type": "execute_result",
          "data": {
            "text/plain": [
              "True"
            ]
          },
          "metadata": {},
          "execution_count": 5
        }
      ]
    },
    {
      "cell_type": "code",
      "source": [
        "corpus_lemma = []"
      ],
      "metadata": {
        "id": "ZHDq9cv9ixEC"
      },
      "execution_count": 11,
      "outputs": []
    },
    {
      "cell_type": "code",
      "source": [
        "for i in range(len(sentences)):\n",
        "  review = re.sub('[^a-zA-Z]',' ',sentences[i])\n",
        "  review = review.lower()\n",
        "  review = review.split()\n",
        "  review_lemmatize = [lemma.lemmatize(word,pos='v') for word in review if not word in set(stopwords.words('english'))]\n",
        "  review_lemmatize = ' '.join(review_lemmatize)\n",
        "  corpus_lemma.append(review_lemmatize)"
      ],
      "metadata": {
        "id": "PNkugUPVhz-V"
      },
      "execution_count": 12,
      "outputs": []
    },
    {
      "cell_type": "code",
      "source": [
        "corpus_lemma"
      ],
      "metadata": {
        "colab": {
          "base_uri": "https://localhost:8080/"
        },
        "id": "9au2LhlOjUx-",
        "outputId": "7c9fa068-7faf-4369-ccf6-67df5a69871c"
      },
      "execution_count": 19,
      "outputs": [
        {
          "output_type": "execute_result",
          "data": {
            "text/plain": [
              "['three visions india',\n",
              " 'years history people world come invade us capture land conquer mind',\n",
              " 'alexander onwards greeks turks moguls portuguese british french dutch come loot us take',\n",
              " 'yet do nation',\n",
              " 'conquer anyone',\n",
              " 'grab land culture history try enforce way life',\n",
              " '',\n",
              " 'respect freedom others first vision freedom',\n",
              " 'believe india get first vision start war independence',\n",
              " 'freedom must protect nurture build',\n",
              " 'free one respect us',\n",
              " 'second vision india development',\n",
              " 'fifty years develop nation',\n",
              " 'time see develop nation',\n",
              " 'among top nations world term gdp',\n",
              " 'percent growth rate areas',\n",
              " 'poverty level fall',\n",
              " 'achievements globally recognise today',\n",
              " 'yet lack self confidence see develop nation self reliant self assure',\n",
              " 'incorrect',\n",
              " 'third vision',\n",
              " 'india must stand world',\n",
              " 'believe unless india stand world one respect us',\n",
              " 'strength respect strength',\n",
              " 'must strong military power also economic power',\n",
              " 'must go hand hand',\n",
              " 'good fortune work three great mind',\n",
              " 'dr vikram sarabhai dept',\n",
              " 'space professor satish dhawan succeed dr brahm prakash father nuclear material',\n",
              " 'lucky work three closely consider great opportunity life',\n",
              " 'see four milestones career']"
            ]
          },
          "metadata": {},
          "execution_count": 19
        }
      ]
    },
    {
      "cell_type": "markdown",
      "source": [
        "#**One Hot Representation**"
      ],
      "metadata": {
        "id": "eR1MKZ8XjbAQ"
      }
    },
    {
      "cell_type": "code",
      "source": [
        "onehot_repr=[one_hot(words,voc_size)for words in corpus_lemma]\n",
        "print(onehot_repr)"
      ],
      "metadata": {
        "colab": {
          "base_uri": "https://localhost:8080/"
        },
        "id": "MJKt3BxXjaYW",
        "outputId": "214c196b-5e3e-408b-ae52-6065c4636eab"
      },
      "execution_count": 20,
      "outputs": [
        {
          "output_type": "stream",
          "name": "stdout",
          "text": [
            "[[386, 47, 26], [297, 470, 201, 76, 256, 342, 30, 132, 225, 389, 215], [294, 148, 320, 342, 463, 230, 241, 204, 84, 256, 127, 30, 123], [292, 335, 434], [389, 413], [191, 225, 356, 470, 263, 481, 390, 226], [], [427, 488, 156, 85, 470, 488], [59, 26, 26, 85, 470, 42, 115, 241], [488, 29, 307, 153, 415], [16, 471, 427, 30], [174, 470, 26, 168], [459, 297, 388, 434], [387, 51, 388, 434], [303, 270, 485, 76, 202, 361], [110, 150, 228, 238], [303, 63, 215], [168, 430, 29, 170], [292, 77, 268, 311, 51, 388, 434, 268, 499, 268, 478], [288], [219, 470], [26, 29, 287, 76], [59, 461, 26, 287, 76, 471, 427, 30], [24, 427, 24], [29, 235, 498, 348, 495, 284, 348], [29, 12, 462, 462], [292, 325, 154, 386, 226, 215], [384, 321, 431, 382], [345, 270, 496, 423, 285, 384, 301, 13, 388, 348, 382], [320, 154, 386, 190, 241, 226, 387, 226], [51, 457, 378, 223]]\n"
          ]
        }
      ]
    },
    {
      "cell_type": "code",
      "source": [
        "import tensorflow as tf\n",
        "print(tf.__version__)"
      ],
      "metadata": {
        "colab": {
          "base_uri": "https://localhost:8080/"
        },
        "id": "jVubHvMKhz7u",
        "outputId": "1df5a42d-0777-48cc-a471-2f41e2e4499c"
      },
      "execution_count": 14,
      "outputs": [
        {
          "output_type": "stream",
          "name": "stdout",
          "text": [
            "2.15.0\n"
          ]
        }
      ]
    },
    {
      "cell_type": "code",
      "source": [
        "##tensorflow >2.0\n",
        "from tensorflow.keras.preprocessing.text import one_hot"
      ],
      "metadata": {
        "id": "DDjUSNaXiy3V"
      },
      "execution_count": 15,
      "outputs": []
    },
    {
      "cell_type": "code",
      "source": [
        "### Vocabulary size\n",
        "voc_size=500"
      ],
      "metadata": {
        "id": "dirSX1lmiyz8"
      },
      "execution_count": 16,
      "outputs": []
    },
    {
      "cell_type": "code",
      "source": [
        "from tensorflow.keras.layers import Embedding\n",
        "from tensorflow.keras.preprocessing.sequence import pad_sequences\n",
        "from tensorflow.keras.models import Sequential"
      ],
      "metadata": {
        "id": "3B3d9wLEjCxI"
      },
      "execution_count": 17,
      "outputs": []
    },
    {
      "cell_type": "code",
      "source": [
        "import numpy as np"
      ],
      "metadata": {
        "id": "QTfl9ccIjCmj"
      },
      "execution_count": 18,
      "outputs": []
    },
    {
      "cell_type": "code",
      "source": [
        "## pre padding\n",
        "sent_length=8\n",
        "embedded_docs=pad_sequences(onehot_repr,padding='pre',maxlen=sent_length)\n",
        "print(embedded_docs)"
      ],
      "metadata": {
        "colab": {
          "base_uri": "https://localhost:8080/"
        },
        "id": "eyjOJ62vjCi8",
        "outputId": "ca88e87b-50bc-4fdd-9148-ca9f9acc4b69"
      },
      "execution_count": 21,
      "outputs": [
        {
          "output_type": "stream",
          "name": "stdout",
          "text": [
            "[[  0   0   0   0   0 386  47  26]\n",
            " [ 76 256 342  30 132 225 389 215]\n",
            " [230 241 204  84 256 127  30 123]\n",
            " [  0   0   0   0   0 292 335 434]\n",
            " [  0   0   0   0   0   0 389 413]\n",
            " [191 225 356 470 263 481 390 226]\n",
            " [  0   0   0   0   0   0   0   0]\n",
            " [  0   0 427 488 156  85 470 488]\n",
            " [ 59  26  26  85 470  42 115 241]\n",
            " [  0   0   0 488  29 307 153 415]\n",
            " [  0   0   0   0  16 471 427  30]\n",
            " [  0   0   0   0 174 470  26 168]\n",
            " [  0   0   0   0 459 297 388 434]\n",
            " [  0   0   0   0 387  51 388 434]\n",
            " [  0   0 303 270 485  76 202 361]\n",
            " [  0   0   0   0 110 150 228 238]\n",
            " [  0   0   0   0   0 303  63 215]\n",
            " [  0   0   0   0 168 430  29 170]\n",
            " [311  51 388 434 268 499 268 478]\n",
            " [  0   0   0   0   0   0   0 288]\n",
            " [  0   0   0   0   0   0 219 470]\n",
            " [  0   0   0   0  26  29 287  76]\n",
            " [ 59 461  26 287  76 471 427  30]\n",
            " [  0   0   0   0   0  24 427  24]\n",
            " [  0  29 235 498 348 495 284 348]\n",
            " [  0   0   0   0  29  12 462 462]\n",
            " [  0   0 292 325 154 386 226 215]\n",
            " [  0   0   0   0 384 321 431 382]\n",
            " [423 285 384 301  13 388 348 382]\n",
            " [320 154 386 190 241 226 387 226]\n",
            " [  0   0   0   0  51 457 378 223]]\n"
          ]
        }
      ]
    },
    {
      "cell_type": "code",
      "source": [
        "## 10 feature dimesnions\n",
        "dim=10"
      ],
      "metadata": {
        "id": "ReU8-XoajCgo"
      },
      "execution_count": 22,
      "outputs": []
    },
    {
      "cell_type": "code",
      "source": [
        "model=Sequential()\n",
        "model.add(Embedding(voc_size,10,input_length=sent_length))\n",
        "model.compile('adam','mse')"
      ],
      "metadata": {
        "id": "nnAjyMMejp1a"
      },
      "execution_count": 23,
      "outputs": []
    },
    {
      "cell_type": "code",
      "source": [
        "model.summary()"
      ],
      "metadata": {
        "colab": {
          "base_uri": "https://localhost:8080/"
        },
        "id": "vYDaoMUjjpx3",
        "outputId": "1b4e5936-ff36-4999-a58f-6fcffc33b65b"
      },
      "execution_count": 25,
      "outputs": [
        {
          "output_type": "stream",
          "name": "stdout",
          "text": [
            "Model: \"sequential\"\n",
            "_________________________________________________________________\n",
            " Layer (type)                Output Shape              Param #   \n",
            "=================================================================\n",
            " embedding (Embedding)       (None, 8, 10)             5000      \n",
            "                                                                 \n",
            "=================================================================\n",
            "Total params: 5000 (19.53 KB)\n",
            "Trainable params: 5000 (19.53 KB)\n",
            "Non-trainable params: 0 (0.00 Byte)\n",
            "_________________________________________________________________\n"
          ]
        }
      ]
    },
    {
      "cell_type": "code",
      "source": [
        "print(corpus_lemma[0])\n",
        "print(onehot_repr[0])\n",
        "print(embedded_docs[0])"
      ],
      "metadata": {
        "colab": {
          "base_uri": "https://localhost:8080/"
        },
        "id": "pfVRLwxfjpvz",
        "outputId": "26e9342b-125f-4d4d-a491-898cf7faaae7"
      },
      "execution_count": 28,
      "outputs": [
        {
          "output_type": "stream",
          "name": "stdout",
          "text": [
            "three visions india\n",
            "[386, 47, 26]\n",
            "[  0   0   0   0   0 386  47  26]\n"
          ]
        }
      ]
    },
    {
      "cell_type": "code",
      "source": [
        "model.predict(embedded_docs[0])"
      ],
      "metadata": {
        "colab": {
          "base_uri": "https://localhost:8080/"
        },
        "id": "NhnO8DUijpsp",
        "outputId": "778ab266-e647-4ee8-f2b3-6883757b67e1"
      },
      "execution_count": 29,
      "outputs": [
        {
          "output_type": "stream",
          "name": "stdout",
          "text": [
            "1/1 [==============================] - 0s 118ms/step\n"
          ]
        },
        {
          "output_type": "execute_result",
          "data": {
            "text/plain": [
              "array([[-0.02506287,  0.01559495,  0.01230221,  0.0040404 , -0.03065288,\n",
              "         0.01828947, -0.01824779,  0.02374562,  0.04537145,  0.01647589],\n",
              "       [-0.02506287,  0.01559495,  0.01230221,  0.0040404 , -0.03065288,\n",
              "         0.01828947, -0.01824779,  0.02374562,  0.04537145,  0.01647589],\n",
              "       [-0.02506287,  0.01559495,  0.01230221,  0.0040404 , -0.03065288,\n",
              "         0.01828947, -0.01824779,  0.02374562,  0.04537145,  0.01647589],\n",
              "       [-0.02506287,  0.01559495,  0.01230221,  0.0040404 , -0.03065288,\n",
              "         0.01828947, -0.01824779,  0.02374562,  0.04537145,  0.01647589],\n",
              "       [-0.02506287,  0.01559495,  0.01230221,  0.0040404 , -0.03065288,\n",
              "         0.01828947, -0.01824779,  0.02374562,  0.04537145,  0.01647589],\n",
              "       [-0.00406208, -0.04490309,  0.00236202,  0.04337244,  0.00624459,\n",
              "         0.0120214 , -0.01526573,  0.02898469,  0.01391866,  0.04891619],\n",
              "       [-0.00772749,  0.01644112,  0.01730089,  0.04786675, -0.01814518,\n",
              "        -0.03845812, -0.02716149, -0.03824797,  0.01434619,  0.03112819],\n",
              "       [-0.02515081,  0.04107768, -0.03379009, -0.03876137, -0.01239856,\n",
              "        -0.04813528,  0.04048265,  0.0112574 ,  0.0462889 ,  0.02580654]],\n",
              "      dtype=float32)"
            ]
          },
          "metadata": {},
          "execution_count": 29
        }
      ]
    },
    {
      "cell_type": "code",
      "source": [
        "print(model.predict(embedded_docs))"
      ],
      "metadata": {
        "colab": {
          "base_uri": "https://localhost:8080/"
        },
        "id": "2ljljtUhjpqI",
        "outputId": "8aa7cc62-dd42-4a1e-83c0-038d2394fa37"
      },
      "execution_count": 30,
      "outputs": [
        {
          "output_type": "stream",
          "name": "stdout",
          "text": [
            "1/1 [==============================] - 0s 195ms/step\n",
            "[[[-2.50628721e-02  1.55949481e-02  1.23022087e-02 ...  2.37456225e-02\n",
            "    4.53714468e-02  1.64758898e-02]\n",
            "  [-2.50628721e-02  1.55949481e-02  1.23022087e-02 ...  2.37456225e-02\n",
            "    4.53714468e-02  1.64758898e-02]\n",
            "  [-2.50628721e-02  1.55949481e-02  1.23022087e-02 ...  2.37456225e-02\n",
            "    4.53714468e-02  1.64758898e-02]\n",
            "  ...\n",
            "  [-4.06207889e-03 -4.49030884e-02  2.36202404e-03 ...  2.89846919e-02\n",
            "    1.39186643e-02  4.89161871e-02]\n",
            "  [-7.72749260e-03  1.64411180e-02  1.73008926e-02 ... -3.82479653e-02\n",
            "    1.43461935e-02  3.11281942e-02]\n",
            "  [-2.51508113e-02  4.10776772e-02 -3.37900892e-02 ...  1.12573989e-02\n",
            "    4.62888964e-02  2.58065350e-02]]\n",
            "\n",
            " [[ 4.81809117e-02  1.31557323e-02  2.58723237e-02 ... -6.90191984e-03\n",
            "    3.17432918e-02 -3.17594409e-02]\n",
            "  [-2.18059905e-02 -7.22867250e-03 -2.38557812e-02 ...  3.44035774e-03\n",
            "    1.43226646e-02  1.15309246e-02]\n",
            "  [-2.12749727e-02  1.19225495e-02  3.04677822e-02 ... -1.23263001e-02\n",
            "    2.47416608e-02 -2.23201998e-02]\n",
            "  ...\n",
            "  [-1.60953626e-02  2.76559591e-03  1.45146959e-02 ... -1.06456168e-02\n",
            "   -6.08297437e-03  3.79106738e-02]\n",
            "  [ 6.15764782e-03 -1.63203590e-02 -9.21116024e-03 ... -1.97954178e-02\n",
            "    1.66280605e-02  3.86913158e-02]\n",
            "  [-7.32537359e-03 -2.39694957e-02 -4.21314612e-02 ...  3.12413014e-02\n",
            "   -3.66295204e-02  4.56999056e-02]]\n",
            "\n",
            " [[-2.94333454e-02 -2.68003475e-02  2.86667421e-03 ... -9.35460255e-03\n",
            "    4.05013561e-04  8.91919062e-03]\n",
            "  [-3.11422702e-02 -8.25821236e-03  3.45135853e-03 ...  9.45713371e-03\n",
            "    2.93588676e-02  4.72282283e-02]\n",
            "  [ 8.34325701e-03 -1.70867555e-02  2.26543881e-02 ...  2.17691697e-02\n",
            "    4.08348776e-02 -3.58103141e-02]\n",
            "  ...\n",
            "  [ 1.54004432e-02  4.56658117e-02 -1.66807659e-02 ... -4.95780222e-02\n",
            "    3.23730819e-02 -2.92604044e-03]\n",
            "  [-3.39875221e-02 -7.16171414e-03  2.63486058e-03 ... -2.12424882e-02\n",
            "    1.25356205e-02  1.02413520e-02]\n",
            "  [-1.77159905e-02 -7.94943422e-03 -3.22762020e-02 ...  8.16981867e-03\n",
            "    6.23642281e-03 -2.00251937e-02]]\n",
            "\n",
            " ...\n",
            "\n",
            " [[ 2.66217627e-02 -5.26838377e-03 -1.30915754e-02 ...  3.71765979e-02\n",
            "    3.09326313e-02 -1.85798183e-02]\n",
            "  [ 2.24429481e-02  3.16993631e-02 -2.12274678e-02 ...  3.58656086e-02\n",
            "   -1.21572018e-02  2.72275321e-02]\n",
            "  [-4.57413569e-02  8.37815925e-03 -2.02797186e-02 ...  3.07451934e-04\n",
            "    2.87405886e-02  1.38559826e-02]\n",
            "  ...\n",
            "  [ 4.74840663e-02  2.70954408e-02  5.29272482e-03 ... -1.15754232e-02\n",
            "   -1.02934018e-02  2.22043432e-02]\n",
            "  [ 7.46543333e-03  9.70948860e-03 -3.45725529e-02 ...  4.41431142e-02\n",
            "   -3.41482982e-02 -3.46978419e-02]\n",
            "  [-4.14886586e-02  4.94563691e-02  3.39574739e-03 ...  1.05267167e-02\n",
            "    4.18556854e-03  3.44369896e-02]]\n",
            "\n",
            " [[-3.64377722e-02 -2.08834410e-02 -2.11562756e-02 ...  2.53358372e-02\n",
            "    4.09599431e-02 -1.32098794e-05]\n",
            "  [ 3.90386842e-02  3.16715576e-02 -2.21396331e-02 ...  1.95546634e-02\n",
            "    4.27014567e-02  8.12195614e-03]\n",
            "  [-4.06207889e-03 -4.49030884e-02  2.36202404e-03 ...  2.89846919e-02\n",
            "    1.39186643e-02  4.89161871e-02]\n",
            "  ...\n",
            "  [ 1.24472156e-02  3.77169363e-02  3.14426459e-02 ...  4.53049280e-02\n",
            "   -3.42494473e-02 -4.67300415e-02]\n",
            "  [-1.25062838e-02 -1.11925602e-02 -2.51588821e-02 ...  2.26552412e-03\n",
            "    2.72888280e-02  6.24328852e-03]\n",
            "  [ 1.24472156e-02  3.77169363e-02  3.14426459e-02 ...  4.53049280e-02\n",
            "   -3.42494473e-02 -4.67300415e-02]]\n",
            "\n",
            " [[-2.50628721e-02  1.55949481e-02  1.23022087e-02 ...  2.37456225e-02\n",
            "    4.53714468e-02  1.64758898e-02]\n",
            "  [-2.50628721e-02  1.55949481e-02  1.23022087e-02 ...  2.37456225e-02\n",
            "    4.53714468e-02  1.64758898e-02]\n",
            "  [-2.50628721e-02  1.55949481e-02  1.23022087e-02 ...  2.37456225e-02\n",
            "    4.53714468e-02  1.64758898e-02]\n",
            "  ...\n",
            "  [-1.93839073e-02 -1.06885806e-02  2.38246843e-03 ... -3.54430452e-02\n",
            "   -2.82521732e-02  2.46677883e-02]\n",
            "  [-4.51214314e-02 -2.30037458e-02  8.01007822e-03 ...  2.71411054e-02\n",
            "    9.55500454e-03 -9.13428143e-03]\n",
            "  [-2.35705022e-02  5.19786030e-03  1.28580593e-02 ...  3.78163196e-02\n",
            "    2.98867710e-02 -9.93657857e-04]]]\n"
          ]
        }
      ]
    },
    {
      "cell_type": "markdown",
      "source": [
        "#**Bag Of Words**"
      ],
      "metadata": {
        "id": "ubQzT3hHkYRD"
      }
    },
    {
      "cell_type": "code",
      "source": [
        "# Creating the Bag of Words model\n",
        "from sklearn.feature_extraction.text import CountVectorizer\n",
        "cv = CountVectorizer(max_features = 1500)\n",
        "model_BOW= cv.fit_transform(corpus_lemma).toarray()"
      ],
      "metadata": {
        "id": "0XbFoj2Njpno"
      },
      "execution_count": 31,
      "outputs": []
    },
    {
      "cell_type": "code",
      "source": [
        "## pre padding\n",
        "sent_length=8\n",
        "embedded_docs=pad_sequences(model_BOW,padding='pre',maxlen=sent_length)\n",
        "print(embedded_docs)"
      ],
      "metadata": {
        "colab": {
          "base_uri": "https://localhost:8080/"
        },
        "id": "W7PmQXFXkjS0",
        "outputId": "6cce60af-8a0b-4f27-dc7f-95212080d79e"
      },
      "execution_count": 32,
      "outputs": [
        {
          "output_type": "stream",
          "name": "stdout",
          "text": [
            "[[0 1 0 0 0 0 0 0]\n",
            " [0 0 0 0 0 1 1 0]\n",
            " [0 0 0 0 0 0 0 0]\n",
            " [0 0 0 0 0 0 0 1]\n",
            " [0 0 0 0 0 0 0 0]\n",
            " [0 0 0 1 0 0 0 0]\n",
            " [0 0 0 0 0 0 0 0]\n",
            " [1 0 0 0 0 0 0 0]\n",
            " [1 0 1 0 0 0 0 0]\n",
            " [0 0 0 0 0 0 0 0]\n",
            " [0 0 0 0 0 0 0 0]\n",
            " [1 0 0 0 0 0 0 0]\n",
            " [0 0 0 0 0 0 1 0]\n",
            " [0 0 0 0 0 0 0 0]\n",
            " [0 0 0 0 0 1 0 0]\n",
            " [0 0 0 0 0 0 0 0]\n",
            " [0 0 0 0 0 0 0 0]\n",
            " [0 0 0 0 0 0 0 0]\n",
            " [0 0 0 0 0 0 0 1]\n",
            " [0 0 0 0 0 0 0 0]\n",
            " [1 0 0 0 0 0 0 0]\n",
            " [0 0 0 0 0 1 0 0]\n",
            " [0 0 0 0 0 1 0 0]\n",
            " [0 0 0 0 0 0 0 0]\n",
            " [0 0 0 0 0 0 0 0]\n",
            " [0 0 0 0 0 0 0 0]\n",
            " [0 0 0 0 1 0 0 0]\n",
            " [0 0 0 0 0 0 0 0]\n",
            " [0 0 0 0 0 0 0 0]\n",
            " [0 0 0 0 1 0 0 0]\n",
            " [0 0 0 0 0 0 0 0]]\n"
          ]
        }
      ]
    },
    {
      "cell_type": "code",
      "source": [
        "model1=Sequential()\n",
        "model1.add(Embedding(voc_size,10,input_length=sent_length))\n",
        "model1.compile('adam','mse')"
      ],
      "metadata": {
        "id": "XtIbBZB_kjPs"
      },
      "execution_count": 33,
      "outputs": []
    },
    {
      "cell_type": "code",
      "source": [
        "model1.summary()"
      ],
      "metadata": {
        "colab": {
          "base_uri": "https://localhost:8080/"
        },
        "id": "FvWgXyp0k6p5",
        "outputId": "2cea902f-55cc-4b2b-945b-ab8e739f0e89"
      },
      "execution_count": 34,
      "outputs": [
        {
          "output_type": "stream",
          "name": "stdout",
          "text": [
            "Model: \"sequential_1\"\n",
            "_________________________________________________________________\n",
            " Layer (type)                Output Shape              Param #   \n",
            "=================================================================\n",
            " embedding_1 (Embedding)     (None, 8, 10)             5000      \n",
            "                                                                 \n",
            "=================================================================\n",
            "Total params: 5000 (19.53 KB)\n",
            "Trainable params: 5000 (19.53 KB)\n",
            "Non-trainable params: 0 (0.00 Byte)\n",
            "_________________________________________________________________\n"
          ]
        }
      ]
    },
    {
      "cell_type": "code",
      "source": [
        "print(corpus_lemma[0])\n",
        "print(onehot_repr[0])\n",
        "print(embedded_docs[0])"
      ],
      "metadata": {
        "colab": {
          "base_uri": "https://localhost:8080/"
        },
        "id": "lmAFzerpk6mZ",
        "outputId": "83e2fcbd-501a-4cd0-d7dc-cf88511fcecd"
      },
      "execution_count": 35,
      "outputs": [
        {
          "output_type": "stream",
          "name": "stdout",
          "text": [
            "three visions india\n",
            "[386, 47, 26]\n",
            "[0 1 0 0 0 0 0 0]\n"
          ]
        }
      ]
    },
    {
      "cell_type": "code",
      "source": [
        "model.predict(embedded_docs[0])"
      ],
      "metadata": {
        "colab": {
          "base_uri": "https://localhost:8080/"
        },
        "id": "fkLyymm3k6kb",
        "outputId": "8b2479d0-e40c-4a91-c628-efb5c18a3995"
      },
      "execution_count": 36,
      "outputs": [
        {
          "output_type": "stream",
          "name": "stdout",
          "text": [
            "1/1 [==============================] - 0s 20ms/step\n"
          ]
        },
        {
          "output_type": "execute_result",
          "data": {
            "text/plain": [
              "array([[-0.02506287,  0.01559495,  0.01230221,  0.0040404 , -0.03065288,\n",
              "         0.01828947, -0.01824779,  0.02374562,  0.04537145,  0.01647589],\n",
              "       [ 0.04331633,  0.03876591,  0.02796575,  0.00899247,  0.00435245,\n",
              "        -0.00083194, -0.03847482, -0.00552166,  0.02798232, -0.04287965],\n",
              "       [-0.02506287,  0.01559495,  0.01230221,  0.0040404 , -0.03065288,\n",
              "         0.01828947, -0.01824779,  0.02374562,  0.04537145,  0.01647589],\n",
              "       [-0.02506287,  0.01559495,  0.01230221,  0.0040404 , -0.03065288,\n",
              "         0.01828947, -0.01824779,  0.02374562,  0.04537145,  0.01647589],\n",
              "       [-0.02506287,  0.01559495,  0.01230221,  0.0040404 , -0.03065288,\n",
              "         0.01828947, -0.01824779,  0.02374562,  0.04537145,  0.01647589],\n",
              "       [-0.02506287,  0.01559495,  0.01230221,  0.0040404 , -0.03065288,\n",
              "         0.01828947, -0.01824779,  0.02374562,  0.04537145,  0.01647589],\n",
              "       [-0.02506287,  0.01559495,  0.01230221,  0.0040404 , -0.03065288,\n",
              "         0.01828947, -0.01824779,  0.02374562,  0.04537145,  0.01647589],\n",
              "       [-0.02506287,  0.01559495,  0.01230221,  0.0040404 , -0.03065288,\n",
              "         0.01828947, -0.01824779,  0.02374562,  0.04537145,  0.01647589]],\n",
              "      dtype=float32)"
            ]
          },
          "metadata": {},
          "execution_count": 36
        }
      ]
    },
    {
      "cell_type": "code",
      "source": [],
      "metadata": {
        "id": "nPiYgBQDlFCq"
      },
      "execution_count": null,
      "outputs": []
    },
    {
      "cell_type": "code",
      "source": [],
      "metadata": {
        "id": "19x0tMvelE_O"
      },
      "execution_count": null,
      "outputs": []
    },
    {
      "cell_type": "code",
      "source": [],
      "metadata": {
        "id": "kKcUqX-0lE9I"
      },
      "execution_count": null,
      "outputs": []
    }
  ]
}