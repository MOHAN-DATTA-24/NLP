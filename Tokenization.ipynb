{
  "nbformat": 4,
  "nbformat_minor": 0,
  "metadata": {
    "colab": {
      "provenance": [],
      "authorship_tag": "ABX9TyNAYtDOxEJrLIPr44ByDpGd",
      "include_colab_link": true
    },
    "kernelspec": {
      "name": "python3",
      "display_name": "Python 3"
    },
    "language_info": {
      "name": "python"
    }
  },
  "cells": [
    {
      "cell_type": "markdown",
      "metadata": {
        "id": "view-in-github",
        "colab_type": "text"
      },
      "source": [
        "<a href=\"https://colab.research.google.com/github/MOHAN-DATTA-24/NLP/blob/main/Tokenization.ipynb\" target=\"_parent\"><img src=\"https://colab.research.google.com/assets/colab-badge.svg\" alt=\"Open In Colab\"/></a>"
      ]
    },
    {
      "cell_type": "code",
      "execution_count": 16,
      "metadata": {
        "id": "LFB4HGtNArOe"
      },
      "outputs": [],
      "source": [
        "corpus = \"\"\"\n",
        "I want to get deeply into NLP. But I'm not sure! where to start, and I'm also unfamiliar with great resources.\n",
        "\"\"\""
      ]
    },
    {
      "cell_type": "code",
      "source": [
        "print(corpus)"
      ],
      "metadata": {
        "colab": {
          "base_uri": "https://localhost:8080/"
        },
        "id": "9RwGQ9gRA1FO",
        "outputId": "d9f781e3-e1e6-443b-bf43-425eaa74d09c"
      },
      "execution_count": 5,
      "outputs": [
        {
          "output_type": "stream",
          "name": "stdout",
          "text": [
            "\n",
            "I want to get deeply into NLP. But I'm not sure where to start, and I'm also unfamiliar with great resources.\n",
            "\n"
          ]
        }
      ]
    },
    {
      "cell_type": "code",
      "source": [
        "!pip install nltk"
      ],
      "metadata": {
        "colab": {
          "base_uri": "https://localhost:8080/"
        },
        "id": "K-KFbqQ1CZYv",
        "outputId": "7fd161a8-ca04-4e9a-c7c0-ab62cdd92daf"
      },
      "execution_count": 8,
      "outputs": [
        {
          "output_type": "stream",
          "name": "stdout",
          "text": [
            "Requirement already satisfied: nltk in /usr/local/lib/python3.10/dist-packages (3.8.1)\n",
            "Requirement already satisfied: click in /usr/local/lib/python3.10/dist-packages (from nltk) (8.1.7)\n",
            "Requirement already satisfied: joblib in /usr/local/lib/python3.10/dist-packages (from nltk) (1.4.0)\n",
            "Requirement already satisfied: regex>=2021.8.3 in /usr/local/lib/python3.10/dist-packages (from nltk) (2023.12.25)\n",
            "Requirement already satisfied: tqdm in /usr/local/lib/python3.10/dist-packages (from nltk) (4.66.2)\n"
          ]
        }
      ]
    },
    {
      "cell_type": "code",
      "source": [
        "import nltk\n",
        "nltk.download('punkt')"
      ],
      "metadata": {
        "colab": {
          "base_uri": "https://localhost:8080/"
        },
        "id": "MoCd7mjXCqQ3",
        "outputId": "b79b580d-d9b2-43b6-e548-8d471314f6c8"
      },
      "execution_count": 14,
      "outputs": [
        {
          "output_type": "stream",
          "name": "stderr",
          "text": [
            "[nltk_data] Downloading package punkt to /root/nltk_data...\n",
            "[nltk_data]   Unzipping tokenizers/punkt.zip.\n"
          ]
        },
        {
          "output_type": "execute_result",
          "data": {
            "text/plain": [
              "True"
            ]
          },
          "metadata": {},
          "execution_count": 14
        }
      ]
    },
    {
      "cell_type": "code",
      "source": [
        "## Tokenization\n",
        "## Sentence ---> Paragraphs\n",
        "\n",
        "from nltk.tokenize import sent_tokenize"
      ],
      "metadata": {
        "id": "vVEErR-YA1Bx"
      },
      "execution_count": 10,
      "outputs": []
    },
    {
      "cell_type": "markdown",
      "source": [
        "## full stop and exclamations are considered as line break or new sentence."
      ],
      "metadata": {
        "id": "xEcevNk-DViC"
      }
    },
    {
      "cell_type": "code",
      "source": [
        "documents = sent_tokenize(corpus)"
      ],
      "metadata": {
        "id": "eebRiH3OA02j"
      },
      "execution_count": 18,
      "outputs": []
    },
    {
      "cell_type": "code",
      "source": [
        "type(documents)"
      ],
      "metadata": {
        "colab": {
          "base_uri": "https://localhost:8080/"
        },
        "id": "Pa9FpVxYA0zH",
        "outputId": "0910c914-fd3f-4850-a648-14d36901d765"
      },
      "execution_count": 19,
      "outputs": [
        {
          "output_type": "execute_result",
          "data": {
            "text/plain": [
              "list"
            ]
          },
          "metadata": {},
          "execution_count": 19
        }
      ]
    },
    {
      "cell_type": "code",
      "source": [
        "for sentence in documents:\n",
        "  print(sentence)"
      ],
      "metadata": {
        "colab": {
          "base_uri": "https://localhost:8080/"
        },
        "id": "gfQOQYQ-A0rK",
        "outputId": "09c70960-755a-487f-87a8-798c2a97c02e"
      },
      "execution_count": 20,
      "outputs": [
        {
          "output_type": "stream",
          "name": "stdout",
          "text": [
            "\n",
            "I want to get deeply into NLP.\n",
            "But I'm not sure!\n",
            "where to start, and I'm also unfamiliar with great resources.\n"
          ]
        }
      ]
    },
    {
      "cell_type": "code",
      "source": [
        "## Tokenization\n",
        "## Paragraph ---> Words\n",
        "## Sentence ---> Words\n",
        "from nltk.tokenize import word_tokenize\n",
        "from nltk.tokenize import wordpunct_tokenize"
      ],
      "metadata": {
        "id": "17ovt-C4A0np"
      },
      "execution_count": 21,
      "outputs": []
    },
    {
      "cell_type": "code",
      "source": [
        "word_tokenize(corpus)"
      ],
      "metadata": {
        "colab": {
          "base_uri": "https://localhost:8080/"
        },
        "id": "T2gYMsAHA0li",
        "outputId": "4e9af966-d62f-4980-d41f-a5ea158c67c0"
      },
      "execution_count": 22,
      "outputs": [
        {
          "output_type": "execute_result",
          "data": {
            "text/plain": [
              "['I',\n",
              " 'want',\n",
              " 'to',\n",
              " 'get',\n",
              " 'deeply',\n",
              " 'into',\n",
              " 'NLP',\n",
              " '.',\n",
              " 'But',\n",
              " 'I',\n",
              " \"'m\",\n",
              " 'not',\n",
              " 'sure',\n",
              " '!',\n",
              " 'where',\n",
              " 'to',\n",
              " 'start',\n",
              " ',',\n",
              " 'and',\n",
              " 'I',\n",
              " \"'m\",\n",
              " 'also',\n",
              " 'unfamiliar',\n",
              " 'with',\n",
              " 'great',\n",
              " 'resources',\n",
              " '.']"
            ]
          },
          "metadata": {},
          "execution_count": 22
        }
      ]
    },
    {
      "cell_type": "code",
      "source": [
        "len(word_tokenize(corpus))"
      ],
      "metadata": {
        "colab": {
          "base_uri": "https://localhost:8080/"
        },
        "id": "u_t_sJTSHO2X",
        "outputId": "5496f0b9-594b-426d-f2f2-33f308a7909c"
      },
      "execution_count": 27,
      "outputs": [
        {
          "output_type": "execute_result",
          "data": {
            "text/plain": [
              "27"
            ]
          },
          "metadata": {},
          "execution_count": 27
        }
      ]
    },
    {
      "cell_type": "code",
      "source": [
        "wordpunct_tokenize(corpus)"
      ],
      "metadata": {
        "colab": {
          "base_uri": "https://localhost:8080/"
        },
        "id": "wxq6uWTdA0iu",
        "outputId": "be362663-c124-43e9-ae77-f909dd59245c"
      },
      "execution_count": 25,
      "outputs": [
        {
          "output_type": "execute_result",
          "data": {
            "text/plain": [
              "['I',\n",
              " 'want',\n",
              " 'to',\n",
              " 'get',\n",
              " 'deeply',\n",
              " 'into',\n",
              " 'NLP',\n",
              " '.',\n",
              " 'But',\n",
              " 'I',\n",
              " \"'\",\n",
              " 'm',\n",
              " 'not',\n",
              " 'sure',\n",
              " '!',\n",
              " 'where',\n",
              " 'to',\n",
              " 'start',\n",
              " ',',\n",
              " 'and',\n",
              " 'I',\n",
              " \"'\",\n",
              " 'm',\n",
              " 'also',\n",
              " 'unfamiliar',\n",
              " 'with',\n",
              " 'great',\n",
              " 'resources',\n",
              " '.']"
            ]
          },
          "metadata": {},
          "execution_count": 25
        }
      ]
    },
    {
      "cell_type": "code",
      "source": [
        "len(wordpunct_tokenize(corpus))"
      ],
      "metadata": {
        "colab": {
          "base_uri": "https://localhost:8080/"
        },
        "id": "O9XoaRPNA0gk",
        "outputId": "06ef7639-dbb6-4866-fb52-3045a630e7de"
      },
      "execution_count": 26,
      "outputs": [
        {
          "output_type": "execute_result",
          "data": {
            "text/plain": [
              "29"
            ]
          },
          "metadata": {},
          "execution_count": 26
        }
      ]
    },
    {
      "cell_type": "code",
      "source": [
        "for sentence in documents:\n",
        "  print(word_tokenize(sentence))"
      ],
      "metadata": {
        "colab": {
          "base_uri": "https://localhost:8080/"
        },
        "id": "XHn2kZJOHNJ4",
        "outputId": "f21f23d4-53dd-4a47-a5a6-600e8041e6d1"
      },
      "execution_count": 28,
      "outputs": [
        {
          "output_type": "stream",
          "name": "stdout",
          "text": [
            "['I', 'want', 'to', 'get', 'deeply', 'into', 'NLP', '.']\n",
            "['But', 'I', \"'m\", 'not', 'sure', '!']\n",
            "['where', 'to', 'start', ',', 'and', 'I', \"'m\", 'also', 'unfamiliar', 'with', 'great', 'resources', '.']\n"
          ]
        }
      ]
    },
    {
      "cell_type": "code",
      "source": [
        "for sentence in documents:\n",
        "  print(wordpunct_tokenize(sentence))"
      ],
      "metadata": {
        "colab": {
          "base_uri": "https://localhost:8080/"
        },
        "id": "PqmALpo8A0d-",
        "outputId": "2c6673cf-dd41-45f7-da3c-9d45ef9fb752"
      },
      "execution_count": 29,
      "outputs": [
        {
          "output_type": "stream",
          "name": "stdout",
          "text": [
            "['I', 'want', 'to', 'get', 'deeply', 'into', 'NLP', '.']\n",
            "['But', 'I', \"'\", 'm', 'not', 'sure', '!']\n",
            "['where', 'to', 'start', ',', 'and', 'I', \"'\", 'm', 'also', 'unfamiliar', 'with', 'great', 'resources', '.']\n"
          ]
        }
      ]
    },
    {
      "cell_type": "code",
      "source": [
        "from nltk.tokenize import TreebankWordTokenizer"
      ],
      "metadata": {
        "id": "QuAFJbgsA0bb"
      },
      "execution_count": 30,
      "outputs": []
    },
    {
      "cell_type": "markdown",
      "source": [
        "## It considers full stop as a part of token in last word of the sentence.\n",
        "## EXCEPTION: But for the last full stop of a corpus it will be considered as a separate token."
      ],
      "metadata": {
        "id": "qtIVmHxGJCjV"
      }
    },
    {
      "cell_type": "code",
      "source": [
        "tokenizer = TreebankWordTokenizer()"
      ],
      "metadata": {
        "id": "xFCFDr4EA0Yz"
      },
      "execution_count": 31,
      "outputs": []
    },
    {
      "cell_type": "code",
      "source": [
        "tokenizer.tokenize(corpus)"
      ],
      "metadata": {
        "colab": {
          "base_uri": "https://localhost:8080/"
        },
        "id": "ifI4BP0wH50y",
        "outputId": "0d90e65a-da45-4846-f8ab-e28fc41c5bd9"
      },
      "execution_count": 32,
      "outputs": [
        {
          "output_type": "execute_result",
          "data": {
            "text/plain": [
              "['I',\n",
              " 'want',\n",
              " 'to',\n",
              " 'get',\n",
              " 'deeply',\n",
              " 'into',\n",
              " 'NLP.',\n",
              " 'But',\n",
              " 'I',\n",
              " \"'m\",\n",
              " 'not',\n",
              " 'sure',\n",
              " '!',\n",
              " 'where',\n",
              " 'to',\n",
              " 'start',\n",
              " ',',\n",
              " 'and',\n",
              " 'I',\n",
              " \"'m\",\n",
              " 'also',\n",
              " 'unfamiliar',\n",
              " 'with',\n",
              " 'great',\n",
              " 'resources',\n",
              " '.']"
            ]
          },
          "metadata": {},
          "execution_count": 32
        }
      ]
    }
  ]
}