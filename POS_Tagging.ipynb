{
  "nbformat": 4,
  "nbformat_minor": 0,
  "metadata": {
    "colab": {
      "provenance": [],
      "authorship_tag": "ABX9TyN5ZLYxXcmSeBaJ1Vbb1x81",
      "include_colab_link": true
    },
    "kernelspec": {
      "name": "python3",
      "display_name": "Python 3"
    },
    "language_info": {
      "name": "python"
    }
  },
  "cells": [
    {
      "cell_type": "markdown",
      "metadata": {
        "id": "view-in-github",
        "colab_type": "text"
      },
      "source": [
        "<a href=\"https://colab.research.google.com/github/MOHAN-DATTA-24/NLP/blob/main/POS_Tagging.ipynb\" target=\"_parent\"><img src=\"https://colab.research.google.com/assets/colab-badge.svg\" alt=\"Open In Colab\"/></a>"
      ]
    },
    {
      "cell_type": "markdown",
      "source": [
        "\n",
        "Parts Of Speech Tags<br>\n",
        "\"Taj Mahal is a beautiful Monument\""
      ],
      "metadata": {
        "id": "nHpYKkBD-nDx"
      }
    },
    {
      "cell_type": "markdown",
      "source": [
        "<!DOCTYPE html>\n",
        "<html lang=\"en\">\n",
        "<head>\n",
        "<meta charset=\"UTF-8\">\n",
        "<meta name=\"viewport\" content=\"width=device-width, initial-scale=1.0\">\n",
        "<title>POS Tags</title>\n",
        "<style>\n",
        "    table {\n",
        "        border-collapse: collapse;\n",
        "        width: 100%;\n",
        "    }\n",
        "    th, td {\n",
        "        border: 1px solid #dddddd;\n",
        "        text-align: left;\n",
        "        padding: 8px;\n",
        "    }\n",
        "    th {\n",
        "        background-color: #f2f2f2;\n",
        "    }\n",
        "</style>\n",
        "</head>\n",
        "<body>\n",
        "\n",
        "<h2>POS Tags</h2>\n",
        "\n",
        "<table>\n",
        "    <tr>\n",
        "        <th>Tag</th>\n",
        "        <th>Description</th>\n",
        "        <th>Examples</th>\n",
        "    </tr>\n",
        "    <tr>\n",
        "        <td>CC</td>\n",
        "        <td>Coordinating conjunction</td>\n",
        "        <td>and, but</td>\n",
        "    </tr>\n",
        "    <tr>\n",
        "        <td>CD</td>\n",
        "        <td>Cardinal digit</td>\n",
        "        <td>one, 123</td>\n",
        "    </tr>\n",
        "    <tr>\n",
        "        <td>DT</td>\n",
        "        <td>Determiner</td>\n",
        "        <td>the, a</td>\n",
        "    </tr>\n",
        "    <tr>\n",
        "        <td>EX</td>\n",
        "        <td>Existential there</td>\n",
        "        <td>there</td>\n",
        "    </tr>\n",
        "    <tr>\n",
        "        <td>FW</td>\n",
        "        <td>Foreign word</td>\n",
        "        <td>bon appétit, vis-à-vis</td>\n",
        "    </tr>\n",
        "    <tr>\n",
        "        <td>IN</td>\n",
        "        <td>Preposition/subordinating conjunction</td>\n",
        "        <td>in, before</td>\n",
        "    </tr>\n",
        "    <tr>\n",
        "        <td>JJ</td>\n",
        "        <td>Adjective</td>\n",
        "        <td>big, red</td>\n",
        "    </tr>\n",
        "    <tr>\n",
        "        <td>JJR</td>\n",
        "        <td>Adjective, comparative</td>\n",
        "        <td>bigger, better</td>\n",
        "    </tr>\n",
        "    <tr>\n",
        "        <td>JJS</td>\n",
        "        <td>Adjective, superlative</td>\n",
        "        <td>biggest, best</td>\n",
        "    </tr>\n",
        "    <tr>\n",
        "        <td>LS</td>\n",
        "        <td>List marker</td>\n",
        "        <td>1)</td>\n",
        "    </tr>\n",
        "    <tr>\n",
        "        <td>MD</td>\n",
        "        <td>Modal</td>\n",
        "        <td>could, will</td>\n",
        "    </tr>\n",
        "    <tr>\n",
        "        <td>NN</td>\n",
        "        <td>Noun, singular</td>\n",
        "        <td>desk, apple</td>\n",
        "    </tr>\n",
        "    <tr>\n",
        "        <td>NNS</td>\n",
        "        <td>Noun plural</td>\n",
        "        <td>desks, apples</td>\n",
        "    </tr>\n",
        "    <tr>\n",
        "        <td>NNP</td>\n",
        "        <td>Proper noun, singular</td>\n",
        "        <td>John, London</td>\n",
        "    </tr>\n",
        "    <tr>\n",
        "        <td>NNPS</td>\n",
        "        <td>Proper noun, plural</td>\n",
        "        <td>Americans, Europeans</td>\n",
        "    </tr>\n",
        "    <tr>\n",
        "        <td>PDT</td>\n",
        "        <td>Predeterminer</td>\n",
        "        <td>all the, both the</td>\n",
        "    </tr>\n",
        "    <tr>\n",
        "        <td>POS</td>\n",
        "        <td>Possessive ending</td>\n",
        "        <td>parent's, children's</td>\n",
        "    </tr>\n",
        "    <tr>\n",
        "        <td>PRP</td>\n",
        "        <td>Personal pronoun</td>\n",
        "        <td>I, you, he</td>\n",
        "    </tr>\n",
        "    <tr>\n",
        "        <td>PRP$</td>\n",
        "        <td>Possessive pronoun</td>\n",
        "        <td>my, your, our</td>\n",
        "    </tr>\n",
        "    <tr>\n",
        "        <td>RB</td>\n",
        "        <td>Adverb</td>\n",
        "        <td>very, quickly</td>\n",
        "    </tr>\n",
        "    <tr>\n",
        "        <td>RBR</td>\n",
        "        <td>Adverb, comparative</td>\n",
        "        <td>faster, better</td>\n",
        "    </tr>\n",
        "    <tr>\n",
        "        <td>RBS</td>\n",
        "        <td>Adverb, superlative</td>\n",
        "        <td>fastest, best</td>\n",
        "    </tr>\n",
        "    <tr>\n",
        "        <td>RP</td>\n",
        "        <td>Particle</td>\n",
        "        <td>up, down</td>\n",
        "    </tr>\n",
        "    <tr>\n",
        "        <td>TO</td>\n",
        "        <td>To</td>\n",
        "        <td>to go</td>\n",
        "    </tr>\n",
        "    <tr>\n",
        "        <td>UH</td>\n",
        "        <td>Interjection</td>\n",
        "        <td>uh, oops</td>\n",
        "    </tr>\n",
        "    <tr>\n",
        "        <td>VB</td>\n",
        "        <td>Verb, base form</td>\n",
        "        <td>take, eat</td>\n",
        "    </tr>\n",
        "    <tr>\n",
        "        <td>VBD</td>\n",
        "        <td>Verb, past tense</td>\n",
        "        <td>took, ate</td>\n",
        "    </tr>\n",
        "    <tr>\n",
        "        <td>VBG</td>\n",
        "        <td>Verb, gerund/present participle</td>\n",
        "        <td>taking, eating</td>\n",
        "    </tr>\n",
        "    <tr>\n",
        "        <td>VBN</td>\n",
        "        <td>Verb, past participle</td>\n",
        "        <td>taken, eaten</td>\n",
        "    </tr>\n",
        "    <tr>\n",
        "        <td>VBP</td>\n",
        "        <td>Verb, sing. present, non-3d</td>\n",
        "        <td>take, eat</td>\n",
        "    </tr>\n",
        "    <tr>\n",
        "        <td>VBZ</td>\n",
        "        <td>Verb, 3rd person sing. present</td>\n",
        "        <td>takes, eats</td>\n",
        "    </tr>\n",
        "    <tr>\n",
        "        <td>WDT</td>\n",
        "        <td>Wh-determiner</td>\n",
        "        <td>which, what</td>\n",
        "    </tr>\n",
        "    <tr>\n",
        "        <td>WP</td>\n",
        "        <td>Wh-pronoun</td>\n",
        "        <td>who, what</td>\n",
        "    </tr>\n",
        "    <tr>\n",
        "        <td>WP$</td>\n",
        "        <td>Possessive wh-pronoun</td>\n",
        "        <td>whose, whosever</td>\n",
        "    </tr>\n",
        "    <tr>\n",
        "        <td>WRB</td>\n",
        "        <td>Wh-adverb</td>\n",
        "        <td>where, when</td>\n",
        "    </tr>\n",
        "</table>\n",
        "\n",
        "</body>\n",
        "</html>\n"
      ],
      "metadata": {
        "id": "a-x2yIj3_NhB"
      }
    },
    {
      "cell_type": "code",
      "execution_count": 1,
      "metadata": {
        "id": "cgJusNhp7Vds"
      },
      "outputs": [],
      "source": [
        "## Speech Of DR APJ Abdul Kalam\n",
        "paragraph = \"\"\"I have three visions for India. In 3000 years of our history, people from all over\n",
        "               the world have come and invaded us, captured our lands, conquered our minds.\n",
        "               From Alexander onwards, the Greeks, the Turks, the Moguls, the Portuguese, the British,\n",
        "               the French, the Dutch, all of them came and looted us, took over what was ours.\n",
        "               Yet we have not done this to any other nation. We have not conquered anyone.\n",
        "               We have not grabbed their land, their culture,\n",
        "               their history and tried to enforce our way of life on them.\n",
        "               Why? Because we respect the freedom of others.That is why my\n",
        "               first vision is that of freedom. I believe that India got its first vision of\n",
        "               this in 1857, when we started the War of Independence. It is this freedom that\n",
        "               we must protect and nurture and build on. If we are not free, no one will respect us.\n",
        "               My second vision for India’s development. For fifty years we have been a developing nation.\n",
        "               It is time we see ourselves as a developed nation. We are among the top 5 nations of the world\n",
        "               in terms of GDP. We have a 10 percent growth rate in most areas. Our poverty levels are falling.\n",
        "               Our achievements are being globally recognised today. Yet we lack the self-confidence to\n",
        "               see ourselves as a developed nation, self-reliant and self-assured. Isn’t this incorrect?\n",
        "               I have a third vision. India must stand up to the world. Because I believe that unless India\n",
        "               stands up to the world, no one will respect us. Only strength respects strength. We must be\n",
        "               strong not only as a military power but also as an economic power. Both must go hand-in-hand.\n",
        "               My good fortune was to have worked with three great minds. Dr. Vikram Sarabhai of the Dept. of\n",
        "               space, Professor Satish Dhawan, who succeeded him and Dr. Brahm Prakash, father of nuclear material.\n",
        "               I was lucky to have worked with all three of them closely and consider this the great opportunity of my life.\n",
        "               I see four milestones in my career\"\"\""
      ]
    },
    {
      "cell_type": "code",
      "source": [
        "from nltk.stem import PorterStemmer\n",
        "from nltk.corpus import stopwords"
      ],
      "metadata": {
        "id": "4-DazwDb-2cv"
      },
      "execution_count": 2,
      "outputs": []
    },
    {
      "cell_type": "code",
      "source": [
        "porter_stemmer = PorterStemmer()"
      ],
      "metadata": {
        "id": "vYcZRaqq-2aX"
      },
      "execution_count": 3,
      "outputs": []
    },
    {
      "cell_type": "code",
      "source": [
        "import nltk\n",
        "nltk.download('punkt')"
      ],
      "metadata": {
        "colab": {
          "base_uri": "https://localhost:8080/"
        },
        "id": "RQixiuXz-2Xw",
        "outputId": "85b53efa-2de4-44a2-efa7-b5aba3143bcc"
      },
      "execution_count": 6,
      "outputs": [
        {
          "output_type": "stream",
          "name": "stderr",
          "text": [
            "[nltk_data] Downloading package punkt to /root/nltk_data...\n",
            "[nltk_data]   Unzipping tokenizers/punkt.zip.\n"
          ]
        },
        {
          "output_type": "execute_result",
          "data": {
            "text/plain": [
              "True"
            ]
          },
          "metadata": {},
          "execution_count": 6
        }
      ]
    },
    {
      "cell_type": "code",
      "source": [
        "sentences = nltk.sent_tokenize(paragraph)"
      ],
      "metadata": {
        "id": "ff2tlP6D-2VR"
      },
      "execution_count": 7,
      "outputs": []
    },
    {
      "cell_type": "code",
      "source": [
        "sentences"
      ],
      "metadata": {
        "colab": {
          "base_uri": "https://localhost:8080/"
        },
        "id": "NLr3v75-H7XX",
        "outputId": "e84f6c61-675a-4599-f396-2fab4dfe2ebb"
      },
      "execution_count": 8,
      "outputs": [
        {
          "output_type": "execute_result",
          "data": {
            "text/plain": [
              "['I have three visions for India.',\n",
              " 'In 3000 years of our history, people from all over \\n               the world have come and invaded us, captured our lands, conquered our minds.',\n",
              " 'From Alexander onwards, the Greeks, the Turks, the Moguls, the Portuguese, the British,\\n               the French, the Dutch, all of them came and looted us, took over what was ours.',\n",
              " 'Yet we have not done this to any other nation.',\n",
              " 'We have not conquered anyone.',\n",
              " 'We have not grabbed their land, their culture, \\n               their history and tried to enforce our way of life on them.',\n",
              " 'Why?',\n",
              " 'Because we respect the freedom of others.That is why my \\n               first vision is that of freedom.',\n",
              " 'I believe that India got its first vision of \\n               this in 1857, when we started the War of Independence.',\n",
              " 'It is this freedom that\\n               we must protect and nurture and build on.',\n",
              " 'If we are not free, no one will respect us.',\n",
              " 'My second vision for India’s development.',\n",
              " 'For fifty years we have been a developing nation.',\n",
              " 'It is time we see ourselves as a developed nation.',\n",
              " 'We are among the top 5 nations of the world\\n               in terms of GDP.',\n",
              " 'We have a 10 percent growth rate in most areas.',\n",
              " 'Our poverty levels are falling.',\n",
              " 'Our achievements are being globally recognised today.',\n",
              " 'Yet we lack the self-confidence to\\n               see ourselves as a developed nation, self-reliant and self-assured.',\n",
              " 'Isn’t this incorrect?',\n",
              " 'I have a third vision.',\n",
              " 'India must stand up to the world.',\n",
              " 'Because I believe that unless India \\n               stands up to the world, no one will respect us.',\n",
              " 'Only strength respects strength.',\n",
              " 'We must be \\n               strong not only as a military power but also as an economic power.',\n",
              " 'Both must go hand-in-hand.',\n",
              " 'My good fortune was to have worked with three great minds.',\n",
              " 'Dr. Vikram Sarabhai of the Dept.',\n",
              " 'of \\n               space, Professor Satish Dhawan, who succeeded him and Dr. Brahm Prakash, father of nuclear material.',\n",
              " 'I was lucky to have worked with all three of them closely and consider this the great opportunity of my life.',\n",
              " 'I see four milestones in my career']"
            ]
          },
          "metadata": {},
          "execution_count": 8
        }
      ]
    },
    {
      "cell_type": "code",
      "source": [
        "nltk.download('stopwords')\n",
        "nltk.download('averaged_perceptron_tagger')"
      ],
      "metadata": {
        "colab": {
          "base_uri": "https://localhost:8080/"
        },
        "id": "BHcHSIBEIi4A",
        "outputId": "e0d5aa28-52ac-415e-b710-b4ead82d643c"
      },
      "execution_count": 12,
      "outputs": [
        {
          "output_type": "stream",
          "name": "stderr",
          "text": [
            "[nltk_data] Downloading package stopwords to /root/nltk_data...\n",
            "[nltk_data]   Package stopwords is already up-to-date!\n",
            "[nltk_data] Downloading package averaged_perceptron_tagger to\n",
            "[nltk_data]     /root/nltk_data...\n",
            "[nltk_data]   Unzipping taggers/averaged_perceptron_tagger.zip.\n"
          ]
        },
        {
          "output_type": "execute_result",
          "data": {
            "text/plain": [
              "True"
            ]
          },
          "metadata": {},
          "execution_count": 12
        }
      ]
    },
    {
      "cell_type": "code",
      "source": [
        "## Finding POS tag\n",
        "\n",
        "for i in range(len(sentences)):\n",
        "    words=nltk.word_tokenize(sentences[i])\n",
        "    words=[word for word in words if word not in set(stopwords.words('english'))]\n",
        "    #sentences[i]=' '.join(words)# converting all the list of words into sentences\n",
        "    poss_tag = nltk.pos_tag(words)\n",
        "    print(poss_tag)"
      ],
      "metadata": {
        "colab": {
          "base_uri": "https://localhost:8080/"
        },
        "id": "KIxJn1MOH0iw",
        "outputId": "aa17208f-1698-4197-80e7-b7a75ed3127b"
      },
      "execution_count": 14,
      "outputs": [
        {
          "output_type": "stream",
          "name": "stdout",
          "text": [
            "[('I', 'PRP'), ('three', 'CD'), ('visions', 'NNS'), ('India', 'NNP'), ('.', '.')]\n",
            "[('In', 'IN'), ('3000', 'CD'), ('years', 'NNS'), ('history', 'NN'), (',', ','), ('people', 'NNS'), ('world', 'NN'), ('come', 'VBP'), ('invaded', 'VBN'), ('us', 'PRP'), (',', ','), ('captured', 'VBD'), ('lands', 'NNS'), (',', ','), ('conquered', 'VBD'), ('minds', 'NNS'), ('.', '.')]\n",
            "[('From', 'IN'), ('Alexander', 'NNP'), ('onwards', 'NNS'), (',', ','), ('Greeks', 'NNP'), (',', ','), ('Turks', 'NNP'), (',', ','), ('Moguls', 'NNP'), (',', ','), ('Portuguese', 'NNP'), (',', ','), ('British', 'NNP'), (',', ','), ('French', 'NNP'), (',', ','), ('Dutch', 'NNP'), (',', ','), ('came', 'VBD'), ('looted', 'JJ'), ('us', 'PRP'), (',', ','), ('took', 'VBD'), ('.', '.')]\n",
            "[('Yet', 'RB'), ('done', 'VBN'), ('nation', 'NN'), ('.', '.')]\n",
            "[('We', 'PRP'), ('conquered', 'VBD'), ('anyone', 'NN'), ('.', '.')]\n",
            "[('We', 'PRP'), ('grabbed', 'VBD'), ('land', 'NN'), (',', ','), ('culture', 'NN'), (',', ','), ('history', 'NN'), ('tried', 'VBD'), ('enforce', 'JJ'), ('way', 'NN'), ('life', 'NN'), ('.', '.')]\n",
            "[('Why', 'WRB'), ('?', '.')]\n",
            "[('Because', 'IN'), ('respect', 'NN'), ('freedom', 'NN'), ('others.That', 'IN'), ('first', 'JJ'), ('vision', 'NN'), ('freedom', 'NN'), ('.', '.')]\n",
            "[('I', 'PRP'), ('believe', 'VBP'), ('India', 'NNP'), ('got', 'VBD'), ('first', 'JJ'), ('vision', 'NN'), ('1857', 'CD'), (',', ','), ('started', 'VBD'), ('War', 'NNP'), ('Independence', 'NNP'), ('.', '.')]\n",
            "[('It', 'PRP'), ('freedom', 'NN'), ('must', 'MD'), ('protect', 'VB'), ('nurture', 'NN'), ('build', 'NN'), ('.', '.')]\n",
            "[('If', 'IN'), ('free', 'JJ'), (',', ','), ('one', 'CD'), ('respect', 'NN'), ('us', 'PRP'), ('.', '.')]\n",
            "[('My', 'PRP$'), ('second', 'JJ'), ('vision', 'NN'), ('India', 'NNP'), ('’', 'NNP'), ('development', 'NN'), ('.', '.')]\n",
            "[('For', 'IN'), ('fifty', 'JJ'), ('years', 'NNS'), ('developing', 'VBG'), ('nation', 'NN'), ('.', '.')]\n",
            "[('It', 'PRP'), ('time', 'NN'), ('see', 'VB'), ('developed', 'JJ'), ('nation', 'NN'), ('.', '.')]\n",
            "[('We', 'PRP'), ('among', 'IN'), ('top', 'JJ'), ('5', 'CD'), ('nations', 'NNS'), ('world', 'NN'), ('terms', 'NNS'), ('GDP', 'NNP'), ('.', '.')]\n",
            "[('We', 'PRP'), ('10', 'CD'), ('percent', 'JJ'), ('growth', 'NN'), ('rate', 'NN'), ('areas', 'NNS'), ('.', '.')]\n",
            "[('Our', 'PRP$'), ('poverty', 'NN'), ('levels', 'NNS'), ('falling', 'VBG'), ('.', '.')]\n",
            "[('Our', 'PRP$'), ('achievements', 'NNS'), ('globally', 'RB'), ('recognised', 'VBN'), ('today', 'NN'), ('.', '.')]\n",
            "[('Yet', 'RB'), ('lack', 'JJ'), ('self-confidence', 'NN'), ('see', 'NN'), ('developed', 'JJ'), ('nation', 'NN'), (',', ','), ('self-reliant', 'JJ'), ('self-assured', 'JJ'), ('.', '.')]\n",
            "[('Isn', 'NNP'), ('’', 'NNP'), ('incorrect', 'NN'), ('?', '.')]\n",
            "[('I', 'PRP'), ('third', 'JJ'), ('vision', 'NN'), ('.', '.')]\n",
            "[('India', 'NNP'), ('must', 'MD'), ('stand', 'VB'), ('world', 'NN'), ('.', '.')]\n",
            "[('Because', 'IN'), ('I', 'PRP'), ('believe', 'VBP'), ('unless', 'IN'), ('India', 'NNP'), ('stands', 'VBZ'), ('world', 'NN'), (',', ','), ('one', 'CD'), ('respect', 'NN'), ('us', 'PRP'), ('.', '.')]\n",
            "[('Only', 'RB'), ('strength', 'NN'), ('respects', 'NNS'), ('strength', 'NN'), ('.', '.')]\n",
            "[('We', 'PRP'), ('must', 'MD'), ('strong', 'JJ'), ('military', 'JJ'), ('power', 'NN'), ('also', 'RB'), ('economic', 'JJ'), ('power', 'NN'), ('.', '.')]\n",
            "[('Both', 'DT'), ('must', 'MD'), ('go', 'VB'), ('hand-in-hand', 'NN'), ('.', '.')]\n",
            "[('My', 'PRP$'), ('good', 'JJ'), ('fortune', 'NN'), ('worked', 'VBD'), ('three', 'CD'), ('great', 'JJ'), ('minds', 'NNS'), ('.', '.')]\n",
            "[('Dr.', 'NNP'), ('Vikram', 'NNP'), ('Sarabhai', 'NNP'), ('Dept', 'NNP'), ('.', '.')]\n",
            "[('space', 'NN'), (',', ','), ('Professor', 'NNP'), ('Satish', 'NNP'), ('Dhawan', 'NNP'), (',', ','), ('succeeded', 'VBD'), ('Dr.', 'NNP'), ('Brahm', 'NNP'), ('Prakash', 'NNP'), (',', ','), ('father', 'RB'), ('nuclear', 'JJ'), ('material', 'NN'), ('.', '.')]\n",
            "[('I', 'PRP'), ('lucky', 'VBP'), ('worked', 'VBD'), ('three', 'CD'), ('closely', 'RB'), ('consider', 'VBP'), ('great', 'JJ'), ('opportunity', 'NN'), ('life', 'NN'), ('.', '.')]\n",
            "[('I', 'PRP'), ('see', 'VBP'), ('four', 'CD'), ('milestones', 'NNS'), ('career', 'NN')]\n"
          ]
        }
      ]
    },
    {
      "cell_type": "code",
      "source": [
        "sent_pos = nltk.pos_tag_sents([sentences])\n",
        "print(sent_pos)"
      ],
      "metadata": {
        "colab": {
          "base_uri": "https://localhost:8080/"
        },
        "id": "mjTZyzN7JDJn",
        "outputId": "06587592-634d-4cb4-a6b4-0e6dcabe7bbb"
      },
      "execution_count": 21,
      "outputs": [
        {
          "output_type": "stream",
          "name": "stdout",
          "text": [
            "[[('I have three visions for India.', 'NNP'), ('In 3000 years of our history, people from all over \\n               the world have come and invaded us, captured our lands, conquered our minds.', 'NNP'), ('From Alexander onwards, the Greeks, the Turks, the Moguls, the Portuguese, the British,\\n               the French, the Dutch, all of them came and looted us, took over what was ours.', 'NNP'), ('Yet we have not done this to any other nation.', 'NNP'), ('We have not conquered anyone.', 'NNP'), ('We have not grabbed their land, their culture, \\n               their history and tried to enforce our way of life on them.', 'NNP'), ('Why?', 'NNP'), ('Because we respect the freedom of others.That is why my \\n               first vision is that of freedom.', 'NNP'), ('I believe that India got its first vision of \\n               this in 1857, when we started the War of Independence.', 'NNP'), ('It is this freedom that\\n               we must protect and nurture and build on.', 'NNP'), ('If we are not free, no one will respect us.', 'NNP'), ('My second vision for India’s development.', 'NNP'), ('For fifty years we have been a developing nation.', 'NNP'), ('It is time we see ourselves as a developed nation.', 'NNP'), ('We are among the top 5 nations of the world\\n               in terms of GDP.', 'NNP'), ('We have a 10 percent growth rate in most areas.', 'NNP'), ('Our poverty levels are falling.', 'NNP'), ('Our achievements are being globally recognised today.', 'NNP'), ('Yet we lack the self-confidence to\\n               see ourselves as a developed nation, self-reliant and self-assured.', 'NNP'), ('Isn’t this incorrect?', 'NNP'), ('I have a third vision.', 'NNP'), ('India must stand up to the world.', 'NNP'), ('Because I believe that unless India \\n               stands up to the world, no one will respect us.', 'NNP'), ('Only strength respects strength.', 'NNP'), ('We must be \\n               strong not only as a military power but also as an economic power.', 'NNP'), ('Both must go hand-in-hand.', 'NNP'), ('My good fortune was to have worked with three great minds.', 'NNP'), ('Dr. Vikram Sarabhai of the Dept.', 'NNP'), ('of \\n               space, Professor Satish Dhawan, who succeeded him and Dr. Brahm Prakash, father of nuclear material.', 'MD'), ('I was lucky to have worked with all three of them closely and consider this the great opportunity of my life.', 'NNP'), ('I see four milestones in my career', 'NNP')]]\n"
          ]
        }
      ]
    },
    {
      "cell_type": "code",
      "source": [
        "#nltk.pos_tag_sents(\"Taj Mahal is a beautiful Monument\")\n",
        "print(nltk.pos_tag(\"Taj Mahal is a beautiful Monument\".split()))"
      ],
      "metadata": {
        "colab": {
          "base_uri": "https://localhost:8080/"
        },
        "id": "W53I53cUJtBA",
        "outputId": "d5c2b796-7dab-4f38-c4a9-5540f8bbfd76"
      },
      "execution_count": 24,
      "outputs": [
        {
          "output_type": "stream",
          "name": "stdout",
          "text": [
            "[('Taj', 'NNP'), ('Mahal', 'NNP'), ('is', 'VBZ'), ('a', 'DT'), ('beautiful', 'JJ'), ('Monument', 'NN')]\n"
          ]
        }
      ]
    },
    {
      "cell_type": "code",
      "source": [
        "import spacy\n",
        "\n",
        "# Load English tokenizer, tagger, parser, and NER\n",
        "nlp = spacy.load(\"en_core_web_sm\")\n",
        "\n",
        "# Given text\n",
        "text = \"Taj Mahal is a beautiful monument.\"\n",
        "\n",
        "# Process the text with spaCy\n",
        "doc = nlp(text)\n",
        "\n",
        "# Extract POS tags from the processed text\n",
        "pos_tags = [(token.text, token.pos_) for token in doc]\n",
        "\n",
        "# Print the POS tags\n",
        "print(\"POS tags:\")\n",
        "for token, pos_tag in pos_tags:\n",
        "    print(f\"{token}: {pos_tag}\")\n"
      ],
      "metadata": {
        "colab": {
          "base_uri": "https://localhost:8080/"
        },
        "id": "c50j0v5DKp3_",
        "outputId": "8d2e319a-0b67-4252-f138-76fd9567a896"
      },
      "execution_count": 25,
      "outputs": [
        {
          "output_type": "stream",
          "name": "stdout",
          "text": [
            "POS tags:\n",
            "Taj: PROPN\n",
            "Mahal: PROPN\n",
            "is: AUX\n",
            "a: DET\n",
            "beautiful: ADJ\n",
            "monument: NOUN\n",
            ".: PUNCT\n"
          ]
        }
      ]
    }
  ]
}