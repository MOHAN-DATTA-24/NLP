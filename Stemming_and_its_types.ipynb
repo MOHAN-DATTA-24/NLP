{
  "nbformat": 4,
  "nbformat_minor": 0,
  "metadata": {
    "colab": {
      "provenance": [],
      "authorship_tag": "ABX9TyNg3kJ7OCpyHz5BngD1etT/",
      "include_colab_link": true
    },
    "kernelspec": {
      "name": "python3",
      "display_name": "Python 3"
    },
    "language_info": {
      "name": "python"
    }
  },
  "cells": [
    {
      "cell_type": "markdown",
      "metadata": {
        "id": "view-in-github",
        "colab_type": "text"
      },
      "source": [
        "<a href=\"https://colab.research.google.com/github/MOHAN-DATTA-24/NLP/blob/main/Stemming_and_its_types.ipynb\" target=\"_parent\"><img src=\"https://colab.research.google.com/assets/colab-badge.svg\" alt=\"Open In Colab\"/></a>"
      ]
    },
    {
      "cell_type": "markdown",
      "source": [
        "# using ***NLTK***"
      ],
      "metadata": {
        "id": "amdwd8DGOiQ-"
      }
    },
    {
      "cell_type": "markdown",
      "source": [
        "## **Stemming**\n",
        "Stemming is the process of reducing a word to its word stem that affixes to suffixes and prefixes or to the roots of words known as a lemma. Stemming is important in natural language understanding (NLU) and natural language processing (NLP)."
      ],
      "metadata": {
        "id": "pi2-ntma43fC"
      }
    },
    {
      "cell_type": "code",
      "source": [
        "## Classification Problem(Say Sentiment Analysis)\n",
        "## Comments of product is a positive review or negative review\n",
        "## Reviews ----> eating, eat, eaten [going, gone, goes]---->go\n",
        "\n",
        "words = [\"eating\",\"eats\",\"eaten\",\"writing\",\"writes\",\"programming\",\"programs\",\"history\",\"finally\",\"finalized\"]"
      ],
      "metadata": {
        "id": "lPOTTlcLAsaa"
      },
      "execution_count": 49,
      "outputs": []
    },
    {
      "cell_type": "markdown",
      "source": [
        "# **PorterStemmer**"
      ],
      "metadata": {
        "id": "VQepRKDFBtjR"
      }
    },
    {
      "cell_type": "code",
      "execution_count": 50,
      "metadata": {
        "id": "9HfBy2O84b-o"
      },
      "outputs": [],
      "source": [
        "from nltk.stem import PorterStemmer"
      ]
    },
    {
      "cell_type": "code",
      "source": [
        "porter_stemmer = PorterStemmer()"
      ],
      "metadata": {
        "id": "zkyhTq0441VT"
      },
      "execution_count": 51,
      "outputs": []
    },
    {
      "cell_type": "code",
      "source": [
        "for word in words:\n",
        "  print(word+\"---->\"+porter_stemmer.stem(word))"
      ],
      "metadata": {
        "id": "-ex-Vz5O41Xy",
        "colab": {
          "base_uri": "https://localhost:8080/"
        },
        "outputId": "e11c323f-d9d0-4dd3-e210-3078fc9d0d3a"
      },
      "execution_count": 52,
      "outputs": [
        {
          "output_type": "stream",
          "name": "stdout",
          "text": [
            "eating---->eat\n",
            "eats---->eat\n",
            "eaten---->eaten\n",
            "writing---->write\n",
            "writes---->write\n",
            "programming---->program\n",
            "programs---->program\n",
            "history---->histori\n",
            "finally---->final\n",
            "finalized---->final\n"
          ]
        }
      ]
    },
    {
      "cell_type": "markdown",
      "source": [
        "### Here we can see that for words like:\n",
        "eaten---->eaten<br>\n",
        "history---->histori<br>\n",
        "\n",
        "It is computing something but the output of this computation do not have meaning this is the major disadvantage of stemming. For good number of words it works fine but for few it does not work."
      ],
      "metadata": {
        "id": "Hh7m4c6jCaK1"
      }
    },
    {
      "cell_type": "code",
      "source": [
        "porter_stemmer.stem(\"congratulations\")"
      ],
      "metadata": {
        "id": "lGqq2PfA41aC",
        "colab": {
          "base_uri": "https://localhost:8080/",
          "height": 36
        },
        "outputId": "1db7b9f2-5e60-450c-c36e-f3a739b81420"
      },
      "execution_count": 53,
      "outputs": [
        {
          "output_type": "execute_result",
          "data": {
            "text/plain": [
              "'congratul'"
            ],
            "application/vnd.google.colaboratory.intrinsic+json": {
              "type": "string"
            }
          },
          "metadata": {},
          "execution_count": 53
        }
      ]
    },
    {
      "cell_type": "code",
      "source": [
        "porter_stemmer.stem(\"Speaking \")"
      ],
      "metadata": {
        "id": "EblsKSDu41cb",
        "colab": {
          "base_uri": "https://localhost:8080/",
          "height": 36
        },
        "outputId": "d8168c17-9754-4ac5-b525-791b5aa2ec13"
      },
      "execution_count": 54,
      "outputs": [
        {
          "output_type": "execute_result",
          "data": {
            "text/plain": [
              "'speaking '"
            ],
            "application/vnd.google.colaboratory.intrinsic+json": {
              "type": "string"
            }
          },
          "metadata": {},
          "execution_count": 54
        }
      ]
    },
    {
      "cell_type": "markdown",
      "source": [
        "## **RegexpStemmer class**\n",
        "NLTK has RegexpStemmer class with the help of which we can easily implement Regular Expression Stemmer algorithms. It basically takes a single regular expression and removes any prefix or suffix that matches the expression. Let us see an example"
      ],
      "metadata": {
        "id": "eTu_ikrJC8AI"
      }
    },
    {
      "cell_type": "code",
      "source": [
        "from nltk.stem import RegexpStemmer"
      ],
      "metadata": {
        "id": "jGS5KBgt41ey"
      },
      "execution_count": 55,
      "outputs": []
    },
    {
      "cell_type": "markdown",
      "source": [
        "**A stemmer that uses regular expressions to identify morphological\n",
        "affixes.  Any substrings that match the regular expressions will\n",
        "be removed.**"
      ],
      "metadata": {
        "id": "L_W8wVlgJ5M2"
      }
    },
    {
      "cell_type": "code",
      "source": [
        "reg_stemmer = RegexpStemmer('ing$|s$|e$|able$|tion$', min=4)"
      ],
      "metadata": {
        "id": "LJMHQGKN41hK"
      },
      "execution_count": 56,
      "outputs": []
    },
    {
      "cell_type": "code",
      "source": [
        "reg_stemmer.stem(\"eating\")"
      ],
      "metadata": {
        "colab": {
          "base_uri": "https://localhost:8080/",
          "height": 36
        },
        "id": "rO8c_xNVKmCZ",
        "outputId": "aa1ad9b3-bdc9-468f-9888-5a3e2326eed1"
      },
      "execution_count": 57,
      "outputs": [
        {
          "output_type": "execute_result",
          "data": {
            "text/plain": [
              "'eat'"
            ],
            "application/vnd.google.colaboratory.intrinsic+json": {
              "type": "string"
            }
          },
          "metadata": {},
          "execution_count": 57
        }
      ]
    },
    {
      "cell_type": "code",
      "source": [
        "# Consider only at the end\n",
        "reg_stemmer.stem(\"ingeating\")"
      ],
      "metadata": {
        "colab": {
          "base_uri": "https://localhost:8080/",
          "height": 36
        },
        "id": "epIEIXnyKwWd",
        "outputId": "2a58e560-15a1-4162-c7d0-551e311ee2d4"
      },
      "execution_count": 58,
      "outputs": [
        {
          "output_type": "execute_result",
          "data": {
            "text/plain": [
              "'ingeat'"
            ],
            "application/vnd.google.colaboratory.intrinsic+json": {
              "type": "string"
            }
          },
          "metadata": {},
          "execution_count": 58
        }
      ]
    },
    {
      "cell_type": "code",
      "source": [
        "reg_stemmer.stem(\"congratulations\")"
      ],
      "metadata": {
        "colab": {
          "base_uri": "https://localhost:8080/",
          "height": 36
        },
        "id": "AT1UDmN2K-CV",
        "outputId": "350101a2-4f53-4ee1-f5ea-727b6f941434"
      },
      "execution_count": 59,
      "outputs": [
        {
          "output_type": "execute_result",
          "data": {
            "text/plain": [
              "'congratulation'"
            ],
            "application/vnd.google.colaboratory.intrinsic+json": {
              "type": "string"
            }
          },
          "metadata": {},
          "execution_count": 59
        }
      ]
    },
    {
      "cell_type": "code",
      "source": [
        "reg_stemmer.stem(\"congratulation\")"
      ],
      "metadata": {
        "colab": {
          "base_uri": "https://localhost:8080/",
          "height": 36
        },
        "id": "255ezdX-LW5p",
        "outputId": "0129af6b-5f14-43e4-b46c-8a1d80ab6765"
      },
      "execution_count": 60,
      "outputs": [
        {
          "output_type": "execute_result",
          "data": {
            "text/plain": [
              "'congratula'"
            ],
            "application/vnd.google.colaboratory.intrinsic+json": {
              "type": "string"
            }
          },
          "metadata": {},
          "execution_count": 60
        }
      ]
    },
    {
      "cell_type": "code",
      "source": [
        "reg_stemmer.stem(\"Finalized\")"
      ],
      "metadata": {
        "id": "0vrAmfN-41jq",
        "colab": {
          "base_uri": "https://localhost:8080/",
          "height": 36
        },
        "outputId": "da8a31c4-e2d6-4b62-b35d-d3265cd99d19"
      },
      "execution_count": 61,
      "outputs": [
        {
          "output_type": "execute_result",
          "data": {
            "text/plain": [
              "'Finalized'"
            ],
            "application/vnd.google.colaboratory.intrinsic+json": {
              "type": "string"
            }
          },
          "metadata": {},
          "execution_count": 61
        }
      ]
    },
    {
      "cell_type": "code",
      "source": [
        "reg_stemmer.stem(\"Hatred\")"
      ],
      "metadata": {
        "id": "vX8LNEEO41mC",
        "colab": {
          "base_uri": "https://localhost:8080/",
          "height": 36
        },
        "outputId": "45f7ba89-83c4-49ef-fc51-7ff589da4bff"
      },
      "execution_count": 62,
      "outputs": [
        {
          "output_type": "execute_result",
          "data": {
            "text/plain": [
              "'Hatred'"
            ],
            "application/vnd.google.colaboratory.intrinsic+json": {
              "type": "string"
            }
          },
          "metadata": {},
          "execution_count": 62
        }
      ]
    },
    {
      "cell_type": "markdown",
      "source": [
        "## **Snowball Stemmer**\n",
        "Better form a word compared to porter stemmer"
      ],
      "metadata": {
        "id": "FKKdHUU0LnAv"
      }
    },
    {
      "cell_type": "code",
      "source": [
        "from nltk.stem import SnowballStemmer"
      ],
      "metadata": {
        "id": "vpdU6g_241ob"
      },
      "execution_count": 63,
      "outputs": []
    },
    {
      "cell_type": "code",
      "source": [
        "snowball_stemmer = SnowballStemmer('english') #various langauges are available"
      ],
      "metadata": {
        "id": "gOi63UQX41rC"
      },
      "execution_count": 64,
      "outputs": []
    },
    {
      "cell_type": "code",
      "source": [
        "for word in words:\n",
        "  print(word+\"---->\"+snowball_stemmer.stem(word))"
      ],
      "metadata": {
        "id": "a8oNK2ZX41ti",
        "colab": {
          "base_uri": "https://localhost:8080/"
        },
        "outputId": "513148e1-fb1f-4890-dd30-b14d34f8be30"
      },
      "execution_count": 65,
      "outputs": [
        {
          "output_type": "stream",
          "name": "stdout",
          "text": [
            "eating---->eat\n",
            "eats---->eat\n",
            "eaten---->eaten\n",
            "writing---->write\n",
            "writes---->write\n",
            "programming---->program\n",
            "programs---->program\n",
            "history---->histori\n",
            "finally---->final\n",
            "finalized---->final\n"
          ]
        }
      ]
    },
    {
      "cell_type": "markdown",
      "source": [
        "No change for the above words"
      ],
      "metadata": {
        "id": "--APbzZLMVK_"
      }
    },
    {
      "cell_type": "code",
      "source": [
        "porter_stemmer.stem(\"fairly\"),stemming.stem(\"sportingly\")"
      ],
      "metadata": {
        "id": "-3T41B-g41wU",
        "colab": {
          "base_uri": "https://localhost:8080/"
        },
        "outputId": "fc496e8b-f854-423d-bac7-31b30621c8ac"
      },
      "execution_count": 66,
      "outputs": [
        {
          "output_type": "execute_result",
          "data": {
            "text/plain": [
              "('fairli', 'sportingli')"
            ]
          },
          "metadata": {},
          "execution_count": 66
        }
      ]
    },
    {
      "cell_type": "code",
      "source": [
        "# Now we can observe difference\n",
        "snowball_stemmer.stem(\"fairly\"),snowball_stemmer.stem(\"sportingly\")"
      ],
      "metadata": {
        "id": "Z2Gh_Off41zD",
        "colab": {
          "base_uri": "https://localhost:8080/"
        },
        "outputId": "0f8aeb6e-29af-49d5-b94a-0bc07dcadefa"
      },
      "execution_count": 67,
      "outputs": [
        {
          "output_type": "execute_result",
          "data": {
            "text/plain": [
              "('fair', 'sport')"
            ]
          },
          "metadata": {},
          "execution_count": 67
        }
      ]
    },
    {
      "cell_type": "code",
      "source": [
        "snowball_stemmer.stem(\"goes\")"
      ],
      "metadata": {
        "colab": {
          "base_uri": "https://localhost:8080/",
          "height": 36
        },
        "id": "GzoHW_WNMo-k",
        "outputId": "f977ac5f-b9e8-44c0-da78-1033b301fd76"
      },
      "execution_count": 68,
      "outputs": [
        {
          "output_type": "execute_result",
          "data": {
            "text/plain": [
              "'goe'"
            ],
            "application/vnd.google.colaboratory.intrinsic+json": {
              "type": "string"
            }
          },
          "metadata": {},
          "execution_count": 68
        }
      ]
    },
    {
      "cell_type": "markdown",
      "source": [
        "<!DOCTYPE html>\n",
        "<html lang=\"en\">\n",
        "<head>\n",
        "<meta charset=\"UTF-8\">\n",
        "<meta name=\"viewport\" content=\"width=device-width, initial-scale=1.0\">\n",
        "<title>Stemmer Comparison</title>\n",
        "<style>\n",
        "    table {\n",
        "        border-collapse: collapse;\n",
        "        width: 100%;\n",
        "    }\n",
        "    th, td {\n",
        "        border: 1px solid #dddddd;\n",
        "        text-align: left;\n",
        "        padding: 8px;\n",
        "    }\n",
        "    th {\n",
        "        background-color: #f2f2f2;\n",
        "    }\n",
        "</style>\n",
        "</head>\n",
        "<body>\n",
        "\n",
        "<h2>Stemmer Comparison</h2>\n",
        "\n",
        "<table>\n",
        "    <tr>\n",
        "        <th>Feature</th>\n",
        "        <th>PorterStemmer</th>\n",
        "        <th>RegexpStemmer</th>\n",
        "        <th>Snowball Stemmer</th>\n",
        "    </tr>\n",
        "    <tr>\n",
        "        <td>Algorithm</td>\n",
        "        <td>Uses a set of rules and suffix stripping to normalize words.</td>\n",
        "        <td>Applies regular expressions to remove common word endings.</td>\n",
        "        <td>Employs language-specific algorithms for stemming.</td>\n",
        "    </tr>\n",
        "    <tr>\n",
        "        <td>Language Support</td>\n",
        "        <td>Supports various languages but may not be as accurate for all.</td>\n",
        "        <td>Language agnostic; can be customized for specific languages.</td>\n",
        "        <td>Provides extensive language support with separate algorithms for each.</td>\n",
        "    </tr>\n",
        "    <tr>\n",
        "        <td>Flexibility</td>\n",
        "        <td>Limited flexibility; follows predefined rules for stemming.</td>\n",
        "        <td>High flexibility; allows custom regular expressions for stemming.</td>\n",
        "        <td>Moderate flexibility; offers language-specific stemming algorithms.</td>\n",
        "    </tr>\n",
        "    <tr>\n",
        "        <td>Performance</td>\n",
        "        <td>Generally faster due to its simplicity.</td>\n",
        "        <td>Speed depends on the complexity of the regular expressions used.</td>\n",
        "        <td>Performance varies based on language and algorithm complexity.</td>\n",
        "    </tr>\n",
        "    <tr>\n",
        "        <td>Example</td>\n",
        "        <td>'running' -> 'run'</td>\n",
        "        <td>'running' -> 'run'</td>\n",
        "        <td>'running' -> 'run'</td>\n",
        "    </tr>\n",
        "</table>\n",
        "\n",
        "</body>\n",
        "</html>\n"
      ],
      "metadata": {
        "id": "yLZJvW0gMubB"
      }
    },
    {
      "cell_type": "markdown",
      "source": [
        "<!DOCTYPE html>\n",
        "<html lang=\"en\">\n",
        "<head>\n",
        "<meta charset=\"UTF-8\">\n",
        "<meta name=\"viewport\" content=\"width=device-width, initial-scale=1.0\">\n",
        "<title>Stemmer Comparison</title>\n",
        "<style>\n",
        "    table {\n",
        "        border-collapse: collapse;\n",
        "        width: 100%;\n",
        "    }\n",
        "    th, td {\n",
        "        border: 1px solid #dddddd;\n",
        "        text-align: left;\n",
        "        padding: 8px;\n",
        "    }\n",
        "    th {\n",
        "        background-color: #f2f2f2;\n",
        "    }\n",
        "</style>\n",
        "</head>\n",
        "<body>\n",
        "\n",
        "<h2>Major Conditions for Usage:</h2>\n",
        "<ol>\n",
        "    <li><strong>PorterStemmer:</strong>\n",
        "        <ul>\n",
        "            <li>Use when you need a simple and fast stemming algorithm.</li>\n",
        "            <li>Suitable for general text processing tasks where accuracy is not critical.</li>\n",
        "            <li>Available in various programming languages, making it widely accessible.</li>\n",
        "        </ul>\n",
        "    </li>\n",
        "    <li><strong>RegexpStemmer:</strong>\n",
        "        <ul>\n",
        "            <li>Ideal when you require flexibility in defining custom stemming rules using regular expressions.</li>\n",
        "            <li>Useful for languages or domains with specific word variations not covered well by predefined algorithms.</li>\n",
        "            <li>Recommended for tasks where you need fine-grained control over stemming rules.</li>\n",
        "        </ul>\n",
        "    </li>\n",
        "    <li><strong>Snowball Stemmer:</strong>\n",
        "        <ul>\n",
        "            <li>Choose when you need language-specific stemming algorithms for better accuracy.</li>\n",
        "            <li>Suitable for tasks involving multilingual text processing, as it supports a wide range of languages.</li>\n",
        "            <li>Ideal for applications where language nuances significantly affect stemming outcomes.</li>\n",
        "        </ul>\n",
        "    </li>\n",
        "</ol>\n",
        "\n",
        "<h2>Three Major Differences:</h2>\n",
        "<ol>\n",
        "    <li><strong>Algorithm Complexity:</strong>\n",
        "        <ul>\n",
        "            <li>PorterStemmer and Snowball Stemmer utilize predefined algorithms based on linguistic rules and suffix stripping.</li>\n",
        "            <li>RegexpStemmer employs regular expressions to remove common word endings, allowing for custom-defined stemming rules.</li>\n",
        "        </ul>\n",
        "    </li>\n",
        "    <li><strong>Language Support:</strong>\n",
        "        <ul>\n",
        "            <li>PorterStemmer offers support for various languages but may not provide the same level of accuracy across all languages.</li>\n",
        "            <li>RegexpStemmer is language-agnostic and can be customized for specific languages or domains.</li>\n",
        "            <li>Snowball Stemmer provides extensive language support with separate algorithms for each language, ensuring better accuracy for different linguistic contexts.</li>\n",
        "        </ul>\n",
        "    </li>\n",
        "    <li><strong>Flexibility:</strong>\n",
        "        <ul>\n",
        "            <li>PorterStemmer has limited flexibility as it follows predefined stemming rules.</li>\n",
        "            <li>RegexpStemmer offers high flexibility, allowing users to define custom regular expressions for stemming based on specific requirements.</li>\n",
        "            <li>Snowball Stemmer provides moderate flexibility by offering language-specific stemming algorithms, accommodating language nuances and variations.</li>\n",
        "        </ul>\n",
        "    </li>\n",
        "</ol>\n",
        "\n",
        "</body>\n",
        "</html>\n"
      ],
      "metadata": {
        "id": "sAwQM2RENQk7"
      }
    },
    {
      "cell_type": "markdown",
      "source": [
        "Alternative for the above disadvantages is Lemmatization."
      ],
      "metadata": {
        "id": "WfqSgwhMOM4h"
      }
    }
  ]
}